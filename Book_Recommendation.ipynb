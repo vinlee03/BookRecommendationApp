import pandas as pd
from sklearn.feature_extraction.text import TfidfVectorizer
from sklearn.metrics.pairwise import cosine_similarity

# Sample dataset (can be replaced with real data)
data = {
    'title': [
        'The Hobbit',
        'Harry Potter and the Sorcerer\'s Stone',
        'The Fellowship of the Ring',
        'A Game of Thrones',
        'The Lion, the Witch and the Wardrobe'
    ],
    'description': [
        'A fantasy novel about a hobbit\'s adventure',
        'A young wizard discovers his magical heritage',
        'A journey to destroy a powerful ring',
        'Noble families fight for control of a kingdom',
        'Children enter a magical world through a wardrobe'
    ]
}

# Load data into DataFrame
df = pd.DataFrame(data)

# Create TF-IDF matrix from descriptions
tfidf = TfidfVectorizer(stop_words='english')
tfidf_matrix = tfidf.fit_transform(df['description'])

# Compute cosine similarity between all books
cosine_sim = cosine_similarity(tfidf_matrix, tfidf_matrix)

# Function to recommend similar books
def recommend_books(title, df, similarity_matrix):
    # Get the index of the book that matches the title
    idx = df.index[df['title'] == title].tolist()
    if not idx:
        print(f"Book titled '{title}' not found.")
        return []
    idx = idx[0]

    # Get pairwise similarity scores
    sim_scores = list(enumerate(similarity_matrix[idx]))

    # Sort books based on similarity scores
    sim_scores = sorted(sim_scores, key=lambda x: x[1], reverse=True)

    # Get indices of top 3 similar books (excluding the input book itself)
    sim_indices = [i for i, score in sim_scores[1:4]]

    return df['title'].iloc[sim_indices].tolist()

# Example usage
book_to_search = 'The Hobbit'
recommendations = recommend_books(book_to_search, df, cosine_sim)
print(f"Books similar to '{book_to_search}':")
for book in recommendations:
    print(f"- {book}")
