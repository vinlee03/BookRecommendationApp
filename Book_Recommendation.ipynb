'''
*Explaination of the code: aka readme file:*
1) This is a book recommendation application.
2) We used flask, a free to use python web framework, to build the webserver
3) Then we used ngrok, a reverse proxy, to create an api gateway (a bridge) that
allows us to access the webserver
4) Finally we wrote code to output the book recommendations on the webserver

*List of machine learning models used*
1) Content Based Filtering 
2) Collborative filtering
3) Decision Tree
4) Linear regression
5) principal component analysis

'''
# Step 1: Install dependencies (flask, pyngrok, scikitlearn, pandas)
!pip install flask pyngrok scikit-learn pandas

# Step 2: Import libraries (ngrok.set_auth_token) authenticates ngrok account so it can open tunnels
from flask import Flask, request, render_template_string
from pyngrok import ngrok
from pyngrok import ngrok
ngrok.set_auth_token("2wp5vJWBKWioQYfjdHFYHhWrXWw_3NdLWgeuMLf92iEFQPNr9")
import pandas as pd
from sklearn.feature_extraction.text import TfidfVectorizer
from sklearn.metrics.pairwise import cosine_similarity
import threading #used to run the flask app without blocking the notebook

# Step 3: Sample dataset
data = {
    'title': [
        'The Hobbit',
        'Harry Potter and the Sorcerer\'s Stone',
        'The Fellowship of the Ring',
        'A Game of Thrones',
        'The Lion, the Witch and the Wardrobe'
    ],
    'description': [
        'A fantasy novel about a hobbit\'s adventure',
        'A young wizard discovers his magical heritage',
        'A journey to destroy a powerful ring',
        'Noble families fight for control of a kingdom',
        'Children enter a magical world through a wardrobe'
    ]
}
df = pd.DataFrame(data)

# Step 4: Recommendation function
tfidf = TfidfVectorizer(stop_words='english') 
tfidf_matrix = tfidf.fit_transform(df['description']) #converts descriptions into vectors
cosine_sim = cosine_similarity(tfidf_matrix, tfidf_matrix)

def recommend_books(title):#given a book title it finds the title, sorts out other books based on similar descriptions, then returns top 3 most similar titles
    idx = df.index[df['title'] == title].tolist()
    if not idx:
        return ['Book not found. Try another title.']
    idx = idx[0]
    sim_scores = list(enumerate(cosine_sim[idx]))
    sim_scores = sorted(sim_scores, key=lambda x: x[1], reverse=True)
    sim_indices = [i for i, _ in sim_scores[1:4]]
    return df['title'].iloc[sim_indices].tolist()

# Step 5: Flask app

app = Flask(__name__) #creates the flask app

html = """
<h2>Book Recommendation System</h2>
<form method="post">
  <label>Enter a book title:</label><br>
  <input type="text" name="title" required>
  <input type="submit" value="Get Recommendations">
</form>
{% if recommendations %}
<h3>Recommendations:</h3>
<ul>
{% for book in recommendations %}
  <li>{{ book }}</li>
{% endfor %}
</ul>
{% endif %}
"""

@app.route("/", methods=["GET", "POST"]) #takes a book title as input and shows the recommendations
def home():
    recommendations = []
    if request.method == "POST":
        title = request.form.get("title")
        recommendations = recommend_books(title)
    return render_template_string(html, recommendations=recommendations)

# Step 6: Run Flask app in a background thread + expose with ngrok
def run_app():
    app.run()

thread = threading.Thread(target=run_app)
thread.start()

# Step 7: Open tunnel
public_url = ngrok.connect(5000)
print("🔗 Open your app here:", public_url)
